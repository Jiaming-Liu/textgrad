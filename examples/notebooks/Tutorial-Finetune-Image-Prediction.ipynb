{
 "cells": [
  {
   "cell_type": "markdown",
   "metadata": {},
   "source": [
    "# Finetuning an Image Prediction LLM using GPT-4O"
   ]
  },
  {
   "cell_type": "markdown",
   "metadata": {},
   "source": [
    "In this tutorial, we will finetune an image prediction LLM using GPT-4O to determine if an image is funny and output a JSON with explanation and funny status."
   ]
  },
  {
   "cell_type": "code",
   "execution_count": null,
   "metadata": {},
   "outputs": [],
   "source": [
    "import os\n",
    "import json\n",
    "import textgrad as tg\n",
    "from textgrad.engine.openai import ChatOpenAI\n",
    "from textgrad.utils.image_utils import download_and_cache_image\n",
    "from textgrad.variable import Variable\n",
    "from textgrad.loss import ImageQALoss\n",
    "from textgrad.optimizer import TGD\n",
    "from textgrad.tasks import load_task\n",
    "from textgrad import BlackboxLLM\n",
    "from textgrad.config import set_backward_engine\n",
    "from textgrad.autograd import MultimodalLLMCall\n",
    "from textgrad.tasks.multimodal import load_multimodal_instance_task\n"
   ]
  },
  {
   "cell_type": "markdown",
   "metadata": {},
   "source": [
    "## Load a batch of local images with labels for training and validation"
   ]
  },
  {
   "cell_type": "code",
   "execution_count": null,
   "metadata": {},
   "outputs": [],
   "source": [
    "# Define the directory containing the images\n",
    "image_dir = \"path/to/your/image/directory\"\n",
    "\n",
    "# Load the images and their labels\n",
    "images = []\n",
    "labels = []\n",
    "for filename in os.listdir(image_dir):\n",
    "    if filename.endswith(\".jpg\") or filename.endswith(\".png\"):\n",
    "        image_path = os.path.join(image_dir, filename)\n",
    "        label = \"funny\" if \"funny\" in filename else \"not funny\"\n",
    "        images.append(image_path)\n",
    "        labels.append(label)\n",
    "\n",
    "# Split the data into training and validation sets\n",
    "train_images = images[:int(0.8 * len(images))]\n",
    "train_labels = labels[:int(0.8 * len(labels))]\n",
    "val_images = images[int(0.8 * len(images)):]\n",
    "val_labels = labels[int(0.8 * len(labels)):]"
   ]
  },
  {
   "cell_type": "markdown",
   "metadata": {},
   "source": [
    "## Use GPT-4O to output a JSON with explanation and funny status"
   ]
  },
  {
   "cell_type": "code",
   "execution_count": null,
   "metadata": {},
   "outputs": [],
   "source": [
    "# Set the GPT-4O engine\n",
    "set_backward_engine(\"gpt-4o\")\n",
    "engine = ChatOpenAI(model_string=\"gpt-4o\", cache=True)\n",
    "\n",
    "# Define the system prompt\n",
    "system_prompt = Variable(\"You are an assistant that determines if an image is funny and provides an explanation.\", requires_grad=False, role_description=\"system prompt for the assistant\")\n",
    "\n",
    "# Define the loss function\n",
    "evaluation_instruction = \"Please evaluate the existing answer to the visual question without solving it yourself. Verify that the answer provides accurate reasoning logic to address the question.\"\n",
    "eval_fn = ImageQALoss(evaluation_instruction=evaluation_instruction, engine=engine)\n",
    "\n",
    "# Define the optimizer\n",
    "optimizer = TGD(parameters=[system_prompt])\n",
    "\n",
    "# Finetune the model\n",
    "for epoch in range(10):\n",
    "    for image_path, label in zip(train_images, train_labels):\n",
    "        image_data = download_and_cache_image(image_path)\n",
    "        question = Variable(\"Is this image funny?\", requires_grad=False, role_description=\"question to the assistant\")\n",
    "        response = MultimodalLLMCall(engine=engine, system_prompt=system_prompt)([Variable(image_data, role_description=\"image input\"), question])\n",
    "        loss = eval_fn(image=Variable(image_data, role_description=\"image input\"), question=question, response=response)\n",
    "        loss.backward()\n",
    "        optimizer.step()\n",
    "        system_prompt.reset_gradients()\n",
    "    print(f\"Epoch {epoch + 1} completed.\")"
   ]
  },
  {
   "cell_type": "markdown",
   "metadata": {},
   "source": [
    "## Validate the model"
   ]
  },
  {
   "cell_type": "code",
   "execution_count": null,
   "metadata": {},
   "outputs": [],
   "source": [
    "# Validate the model\n",
    "correct = 0\n",
    "total = 0\n",
    "for image_path, label in zip(val_images, val_labels):\n",
    "    image_data = download_and_cache_image(image_path)\n",
    "    question = Variable(\"Is this image funny?\", requires_grad=False, role_description=\"question to the assistant\")\n",
    "    response = MultimodalLLMCall(engine=engine, system_prompt=system_prompt)([Variable(image_data, role_description=\"image input\"), question])\n",
    "    response_json = json.loads(response.value)\n",
    "    if (response_json[\"funny\"] and label == \"funny\") or (not response_json[\"funny\"] and label == \"not funny\"):\n",
    "        correct += 1\n",
    "    total += 1\n",
    "accuracy = correct / total\n",
    "print(f\"Validation accuracy: {accuracy * 100:.2f}%\")"
   ]
  }
 ],
 "metadata": {
  "kernelspec": {
   "display_name": "Python 3",
   "language": "python",
   "name": "python3"
  },
  "language_info": {
   "name": "python",
   "version": "3.8.5",
   "mimetype": "text/x-python",
   "codemirror_mode": {
    "name": "ipython",
    "version": 3
   },
   "pygments_lexer": "ipython3",
   "nbconvert_exporter": "python",
   "file_extension": ".py"
  }
 },
 "nbformat": 4,
 "nbformat_minor": 5
}
